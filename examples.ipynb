{
 "cells": [
  {
   "cell_type": "code",
   "execution_count": null,
   "id": "f72a8ce5",
   "metadata": {},
   "outputs": [],
   "source": [
    "import Pkg\n",
    "\n",
    "Pkg.activate(\".\")\n",
    "\n",
    "using Agents\n",
    "using Distributions\n",
    "using Random\n",
    "using Statistics\n",
    "using Printf\n",
    "using ColorTypes\n",
    "using StatsBase\n",
    "using DataFrames\n",
    "using Clustering\n",
    "using RollingFunctions\n",
    "using Graphs\n",
    "using AgentsPlots\n",
    "using CairoMakie\n",
    "\n",
    "include(\"agents.jl\")\n",
    "include(\"utils.jl\")\n",
    "include(\"model.jl\")"
   ]
  },
  {
   "cell_type": "markdown",
   "id": "1e93871a",
   "metadata": {},
   "source": [
    "# Model initialization\n",
    "Low- and high-income agents are randomly spread across the grid."
   ]
  },
  {
   "cell_type": "code",
   "execution_count": null,
   "id": "a5e60d58",
   "metadata": {},
   "outputs": [],
   "source": [
    "\n",
    "current_seed = 580 \n",
    "\n",
    "model = initialize_model(\n",
    "    seed = current_seed\n",
    ")\n",
    "\n",
    "plot_potential_rent(model)\n",
    "city_plot(model)\n",
    "city_plot_rent(model)\n",
    "\n",
    "\n"
   ]
  },
  {
   "cell_type": "markdown",
   "id": "9c04ad71",
   "metadata": {},
   "source": [
    "# Thermalization\n",
    "Agents are free to move according to their utility functions, which depend on the difference between their income and the rent of the patch they occupy, the surrounding amenities, the age of the house, and the distance from the CBD.\n",
    "As a result, the city reaches a more realistic, segregated configuration."
   ]
  },
  {
   "cell_type": "code",
   "execution_count": null,
   "id": "a0611ab9",
   "metadata": {},
   "outputs": [],
   "source": [
    "\n",
    "n_thermalization_steps = 15 \n",
    "\n",
    "for i in 1:n_thermalization_steps\n",
    "    step!(model, agent_step!, model_step_termalizzazione!, 1)\n",
    "    \n",
    "end\n",
    "\n",
    "city_plot(model)\n",
    "city_plot_rent(model)\n",
    "\n",
    "\n"
   ]
  },
  {
   "cell_type": "markdown",
   "id": "dd80b12d",
   "metadata": {},
   "source": [
    "# Dynamics\n",
    "Now the gentrification dynamics begin: at each step, some of the housing patches with the highest rent-gap are renovated — reducing their age — in order to attract high-income agents."
   ]
  },
  {
   "cell_type": "markdown",
   "id": "b97c2a58",
   "metadata": {},
   "source": [
    "# No public housing intervention"
   ]
  },
  {
   "cell_type": "code",
   "execution_count": null,
   "id": "a07b41e5",
   "metadata": {},
   "outputs": [],
   "source": [
    "\n",
    "current_sim_seed = 580\n",
    "current_PH_fraction = 0.07\n",
    "\n",
    "n_steps_termalizzazione = 15\n",
    "\n",
    "initial_model = initialize_model(; seed = current_sim_seed, public_housing_fraction =  current_PH_fraction)\n",
    "\n",
    "agent_df_term, model_metrics_df_term, quadrant_df_term, thermalized_model_object =\n",
    "    run_simulation_phase_and_collect_data(\n",
    "        initial_model,\n",
    "        n_steps_termalizzazione,\n",
    "        agent_step!,\n",
    "        model_step_termalizzazione!, \n",
    "        0\n",
    "    )\n",
    "\n",
    "model_free = deepcopy(thermalized_model_object)\n",
    "\n",
    "n_steps_dinamici = 111\n",
    "\n",
    "\n",
    "agent_df_free, model_metrics_df_free, quadrant_df_free, final_model_free =\n",
    "    run_simulation_phase_and_collect_data(\n",
    "        model_free,\n",
    "        n_steps_dinamici,\n",
    "        agent_step!,\n",
    "        model_step_dinamica_free!,\n",
    "        n_steps_termalizzazione\n",
    "    )\n",
    "\n",
    "\n",
    "combined_model_metrics_df_free = vcat(model_metrics_df_term, model_metrics_df_free[2:end,:])\n",
    "combined_quadrant_df_free = vcat(quadrant_df_term, quadrant_df_free[2:end,:])\n",
    "\n",
    "\n",
    "plot_single_city_comparison_simple(thermalized_model_object, final_model_free, :age)\n",
    "plot_single_city_comparison_simple(thermalized_model_object, final_model_free, :cap_rent)\n",
    "plot_single_city_comparison_simple(thermalized_model_object, final_model_free, :pot_rent)\n",
    "\n",
    "\n",
    "plot_income_trends_inner_city(combined_model_metrics_df_free);\n",
    "\n",
    "\n"
   ]
  },
  {
   "cell_type": "markdown",
   "id": "5fa57272",
   "metadata": {},
   "source": [
    "# Public housing intervention\n",
    "When the inner-city median rent grows over the 50% of its initial value a fraction of housing patches are transformed into public."
   ]
  },
  {
   "cell_type": "markdown",
   "id": "7dcad856",
   "metadata": {},
   "source": [
    "# Random Selection\n",
    "The units to be made public are selected randomly among the available."
   ]
  },
  {
   "cell_type": "code",
   "execution_count": null,
   "id": "e8f4b760",
   "metadata": {},
   "outputs": [],
   "source": [
    "model_ph_random = deepcopy(thermalized_model_object)\n",
    "\n",
    "\n",
    "agent_df_ph_random, model_metrics_df_ph_random, quadrant_df_ph_random, final_model_random =\n",
    "    run_simulation_phase_and_collect_data(\n",
    "        model_ph_random,\n",
    "        n_steps_dinamici,\n",
    "        agent_step!,\n",
    "        model_step_dinamica_public_random!, \n",
    "        n_steps_termalizzazione,\n",
    "        \"Dinamica PH Random\"\n",
    "    )\n",
    "\n",
    "\n",
    "combined_model_metrics_df_ph_random = vcat(model_metrics_df_term, model_metrics_df_ph_random[2:end,:])\n",
    "combined_quadrant_df_ph_random = vcat(quadrant_df_term, quadrant_df_ph_random[2:end,:])\n",
    "\n",
    "plot_single_city_comparison_simple(thermalized_model_object, final_model_random, :age)\n",
    "plot_single_city_comparison_simple(thermalized_model_object, final_model_random, :cap_rent)\n",
    "plot_single_city_comparison_simple(thermalized_model_object, final_model_random, :pot_rent)\n",
    "\n",
    "\n",
    "\n",
    "plot_income_trends_inner_city(combined_model_metrics_df_ph_random)\n"
   ]
  },
  {
   "cell_type": "markdown",
   "id": "2efafce3",
   "metadata": {},
   "source": [
    "# Rent-Gap Selection\n",
    "The units to be made public are selected according to their rent-gap among the available."
   ]
  },
  {
   "cell_type": "code",
   "execution_count": null,
   "id": "e66d49ac",
   "metadata": {},
   "outputs": [],
   "source": [
    "model_ph_rentgap = deepcopy(thermalized_model_object)\n",
    "\n",
    "agent_df_ph_rentgap, model_metrics_df_ph_rentgap, quadrant_df_ph_rentgap, final_model_rentgap =\n",
    "    run_simulation_phase_and_collect_data(\n",
    "        model_ph_rentgap,\n",
    "        n_steps_dinamici,\n",
    "        agent_step!,\n",
    "        model_step_dinamica_public_rent_gap!, \n",
    "        n_steps_termalizzazione,\n",
    "        \"Dinamica PH Rent-Gap\"\n",
    "    )\n",
    "\n",
    "\n",
    "combined_model_metrics_df_ph_rentgap = vcat(model_metrics_df_term, model_metrics_df_ph_rentgap[2:end,:])\n",
    "combined_quadrant_df_ph_rentgap = vcat(quadrant_df_term, quadrant_df_ph_rentgap[2:end,:])\n",
    "\n",
    "    \n",
    "plot_single_city_comparison_simple(thermalized_model_object, final_model_rentgap, :age)\n",
    "plot_single_city_comparison_simple(thermalized_model_object, final_model_rentgap, :cap_rent)\n",
    "plot_single_city_comparison_simple(thermalized_model_object, final_model_rentgap, :pot_rent)\n",
    "\n",
    "\n",
    "\n",
    "plot_income_trends_inner_city(combined_model_metrics_df_ph_rentgap)\n"
   ]
  },
  {
   "cell_type": "markdown",
   "id": "b0e11619",
   "metadata": {},
   "source": [
    "# Comparison between different scenarios"
   ]
  },
  {
   "cell_type": "code",
   "execution_count": null,
   "id": "2a171088",
   "metadata": {},
   "outputs": [],
   "source": [
    "\n",
    "\n",
    "    plot_title_income = \"Comparison inner-city median income (Seed: $current_sim_seed)\"\n",
    "    p_income = Plots.plot(combined_model_metrics_df_free.step, combined_model_metrics_df_free.median_income_inner_city,\n",
    "        label=\"No intervention\", title=plot_title_income, xlabel=\"Step\", ylabel=\"Median Income\", legend=:topleft, linewidth=2)\n",
    "    Plots.plot!(p_income, combined_model_metrics_df_ph_random.step, combined_model_metrics_df_ph_random.median_income_inner_city,\n",
    "        label=\"PH (Random)\", linewidth=2)\n",
    "    Plots.plot!(p_income, combined_model_metrics_df_ph_rentgap.step, combined_model_metrics_df_ph_rentgap.median_income_inner_city,\n",
    "        label=\"PH (Rent-Gap)\", linewidth=2)\n",
    "    Plots.vline!(p_income, [n_steps_termalizzazione], label=\"Start of the dynamics\", color=:black, linestyle=:dash)\n",
    "    display(p_income)\n",
    "\n",
    "    plot_title_agents = \"Comparison inner-city number of agents (Seed: $current_sim_seed)\"\n",
    "    col_low_inner = :n_low_inner\n",
    "    col_high_inner = :n_high_inner\n",
    "    \n",
    "    \n",
    "    p_agents = Plots.plot(combined_model_metrics_df_free.step, combined_model_metrics_df_free[!, col_low_inner],\n",
    "        label=\"LowIncome (no intervention)\", title=plot_title_agents, xlabel=\"Step\", ylabel=\"Agents Number\",\n",
    "        color=:blue, line=:solid, linewidth=2, legend=:outertopright)\n",
    "    \n",
    "    \n",
    "    Plots.plot!(p_agents, combined_model_metrics_df_free.step, combined_model_metrics_df_free[!, col_high_inner],\n",
    "        label=\"HighIncome (no intervention)\", color=:red, line=:solid, linewidth=2)\n",
    "    \n",
    "    Plots.plot!(p_agents, combined_model_metrics_df_ph_random.step, combined_model_metrics_df_ph_random[!, col_low_inner],\n",
    "        label=\"LowIncome (PH Random)\", color=:blue, line=:dash, linewidth=2)\n",
    "    Plots.plot!(p_agents, combined_model_metrics_df_ph_random.step, combined_model_metrics_df_ph_random[!, col_high_inner],\n",
    "        label=\"HighIncome (PH Random)\", color=:red, line=:dash, linewidth=2)\n",
    "        \n",
    "    Plots.plot!(p_agents, combined_model_metrics_df_ph_rentgap.step, combined_model_metrics_df_ph_rentgap[!, col_low_inner],\n",
    "        label=\"LowIncome (PH Rent-Gap)\", color=:blue, line=:dot, linewidth=2)\n",
    "    Plots.plot!(p_agents, combined_model_metrics_df_ph_rentgap.step, combined_model_metrics_df_ph_rentgap[!, col_high_inner],\n",
    "        label=\"HighIncome (PH Rent-Gap)\", color=:red, line=:dot, linewidth=2)\n",
    "\n",
    "    Plots.vline!(p_agents, [n_steps_termalizzazione], label=\"Start of the dynamics\", color=:black, linestyle=:dash)\n",
    "    display(p_agents)\n"
   ]
  }
 ],
 "metadata": {
  "kernelspec": {
   "display_name": "Julia 1.9.3",
   "language": "julia",
   "name": "julia-1.9"
  },
  "language_info": {
   "file_extension": ".jl",
   "mimetype": "application/julia",
   "name": "julia",
   "version": "1.9.3"
  }
 },
 "nbformat": 4,
 "nbformat_minor": 5
}
